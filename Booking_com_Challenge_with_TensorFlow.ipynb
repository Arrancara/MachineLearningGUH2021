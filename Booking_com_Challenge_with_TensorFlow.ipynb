{
  "nbformat": 4,
  "nbformat_minor": 0,
  "metadata": {
    "colab": {
      "name": "Booking.com Challenge with TensorFlow",
      "provenance": []
    },
    "kernelspec": {
      "name": "python3",
      "display_name": "Python 3"
    },
    "language_info": {
      "name": "python"
    }
  },
  "cells": [
    {
      "cell_type": "markdown",
      "metadata": {
        "id": "SBWC9n7pe2kS"
      },
      "source": [
        "*This is the Booking.com challenge to model the wait times for users arriving at a certain destination. This model is split into two sections, where it can predict what the expected wait time at security at a certaina airport is on a given day. It then predicts the time taken to get to the car rental shop after arriving from the airport.*"
      ]
    },
    {
      "cell_type": "markdown",
      "metadata": {
        "id": "auZXYl2PfiwS"
      },
      "source": [
        "*The total wait time is the sum of these times\".\n"
      ]
    },
    {
      "cell_type": "markdown",
      "metadata": {
        "id": "I_NICCnjgFjN"
      },
      "source": [
        "**General**\n",
        "Applicable to both models."
      ]
    },
    {
      "cell_type": "code",
      "metadata": {
        "id": "HThUuwkngRtD"
      },
      "source": [
        "import matplotlib.pyplot as plt\n",
        "import numpy as np\n",
        "import pandas as pd\n",
        "np.set_printoptions(precision = 3, suppress = True)\n",
        "\n",
        "import tensorflow as tf\n",
        "\n",
        "from tensorflow import keras\n",
        "from tensorflow.keras import layers\n",
        "from tensorflow.keras.layers.experimental import preprocessing\n",
        "data_filepath = \"/content/drive/MyDrive/Booking Challenge/car_rentals_large.csv\"\n",
        "airport_data_filepath  = \"/content/drive/MyDrive/Booking Challenge/airports_codes.csv\"\n",
        "\n",
        "\n",
        "column_names_rentals = [\"idn\",\"Booking Number\", \"Price\",\"Origin Lat\", \"Origin Lon\",\n",
        "                        \"Dest Lat\", \"Dest Lon\", \"Wait\", \"Distance\",\n",
        "                        \"Transport\", \"Day\", \"Date\", \"Month\", \"Year\", \"Hour\",\n",
        "                        \"Haul\", \"Time Taken\"]\n",
        "column_names_airport = [\"id\",\"ident\",\"type\",\"name\",\"latitude_deg\",\n",
        "                        \"longitude_deg\",\"identifier\"]\n",
        "\n",
        "dataset = pd.read_csv(data_filepath,names =column_names_rentals, na_values = \"?\",\n",
        "                      comment= \"\\t\", sep = \",\", skipinitialspace = False,\n",
        "                      skiprows=1)\n",
        "\n",
        "dataset_airport = pd.read_csv(airport_data_filepath,names =column_names_airport,\n",
        "                              na_values = \"?\", comment= \"\\t\", sep = \",\",\n",
        "                              skipinitialspace = False,skiprows=1)"
      ],
      "execution_count": null,
      "outputs": []
    },
    {
      "cell_type": "code",
      "metadata": {
        "id": "K3nd6V7og9pO"
      },
      "source": [
        "checking_lat = np.array(dataset[\"Dest Lat\"])\n",
        "checking_lon  = np.array(dataset[\"Dest Lon\"])\n",
        "airport_lat = np.array(dataset_airport[\"latitude_deg\"])\n",
        "airport_lon = np.array(dataset_airport[\"longitude_deg\"])\n",
        "idxer = np.array(dataset_airport[\"identifier\"])\n",
        "\n",
        "other_dictionary = dict(zip(zip(airport_lat,airport_lon),idxer))\n",
        "\n",
        "identifier_array = []\n",
        "for x in range(len(checking_lon)):\n",
        "    identifier_array.append(other_dictionary[checking_lat[x],checking_lon[x]])\n"
      ],
      "execution_count": null,
      "outputs": []
    },
    {
      "cell_type": "code",
      "metadata": {
        "id": "s6pLr55LhGTC"
      },
      "source": [
        "dataset[\"Index\"] = identifier_array\n",
        "dataset.drop(\"Booking Number\",axis = 1, inplace = True)\n",
        "dataset.drop(\"idn\",axis = 1, inplace = True)\n",
        "dataset.drop(\"Dest Lat\",axis = 1,inplace = True)\n",
        "dataset.drop(\"Dest Lon\",axis = 1, inplace = True)\n",
        "dataset.drop(\"Year\",axis = 1,inplace = True)\n",
        "dataset.drop(\"Hour\",axis = 1,inplace = True)\n",
        "dataset.drop(\"Origin Lat\",axis = 1, inplace = True)\n",
        "dataset.drop(\"Origin Lon\",axis = 1, inplace = True)\n",
        "dataset.drop(\"Haul\", axis = 1, inplace = True)"
      ],
      "execution_count": null,
      "outputs": []
    },
    {
      "cell_type": "code",
      "metadata": {
        "colab": {
          "base_uri": "https://localhost:8080/",
          "height": 206
        },
        "id": "C6IXTvufiSkp",
        "outputId": "4a09b8b6-5901-4215-cf45-9595fad2ded1"
      },
      "source": [
        "dataset.tail()"
      ],
      "execution_count": null,
      "outputs": [
        {
          "output_type": "execute_result",
          "data": {
            "text/html": [
              "<div>\n",
              "<style scoped>\n",
              "    .dataframe tbody tr th:only-of-type {\n",
              "        vertical-align: middle;\n",
              "    }\n",
              "\n",
              "    .dataframe tbody tr th {\n",
              "        vertical-align: top;\n",
              "    }\n",
              "\n",
              "    .dataframe thead th {\n",
              "        text-align: right;\n",
              "    }\n",
              "</style>\n",
              "<table border=\"1\" class=\"dataframe\">\n",
              "  <thead>\n",
              "    <tr style=\"text-align: right;\">\n",
              "      <th></th>\n",
              "      <th>Price</th>\n",
              "      <th>Wait</th>\n",
              "      <th>Distance</th>\n",
              "      <th>Transport</th>\n",
              "      <th>Day</th>\n",
              "      <th>Date</th>\n",
              "      <th>Month</th>\n",
              "      <th>Time Taken</th>\n",
              "      <th>Index</th>\n",
              "    </tr>\n",
              "  </thead>\n",
              "  <tbody>\n",
              "    <tr>\n",
              "      <th>199995</th>\n",
              "      <td>1501.59</td>\n",
              "      <td>60</td>\n",
              "      <td>1000</td>\n",
              "      <td>0</td>\n",
              "      <td>2</td>\n",
              "      <td>3</td>\n",
              "      <td>9</td>\n",
              "      <td>74</td>\n",
              "      <td>19442</td>\n",
              "    </tr>\n",
              "    <tr>\n",
              "      <th>199996</th>\n",
              "      <td>1473.75</td>\n",
              "      <td>450</td>\n",
              "      <td>2500</td>\n",
              "      <td>1</td>\n",
              "      <td>5</td>\n",
              "      <td>25</td>\n",
              "      <td>1</td>\n",
              "      <td>458</td>\n",
              "      <td>29613</td>\n",
              "    </tr>\n",
              "    <tr>\n",
              "      <th>199997</th>\n",
              "      <td>2210.82</td>\n",
              "      <td>0</td>\n",
              "      <td>1300</td>\n",
              "      <td>1</td>\n",
              "      <td>4</td>\n",
              "      <td>6</td>\n",
              "      <td>6</td>\n",
              "      <td>4</td>\n",
              "      <td>18873</td>\n",
              "    </tr>\n",
              "    <tr>\n",
              "      <th>199998</th>\n",
              "      <td>2422.92</td>\n",
              "      <td>210</td>\n",
              "      <td>100</td>\n",
              "      <td>0</td>\n",
              "      <td>2</td>\n",
              "      <td>22</td>\n",
              "      <td>9</td>\n",
              "      <td>212</td>\n",
              "      <td>57564</td>\n",
              "    </tr>\n",
              "    <tr>\n",
              "      <th>199999</th>\n",
              "      <td>1766.54</td>\n",
              "      <td>510</td>\n",
              "      <td>100</td>\n",
              "      <td>0</td>\n",
              "      <td>7</td>\n",
              "      <td>19</td>\n",
              "      <td>5</td>\n",
              "      <td>512</td>\n",
              "      <td>57564</td>\n",
              "    </tr>\n",
              "  </tbody>\n",
              "</table>\n",
              "</div>"
            ],
            "text/plain": [
              "          Price  Wait  Distance  Transport  Day  Date  Month  Time Taken  Index\n",
              "199995  1501.59    60      1000          0    2     3      9          74  19442\n",
              "199996  1473.75   450      2500          1    5    25      1         458  29613\n",
              "199997  2210.82     0      1300          1    4     6      6           4  18873\n",
              "199998  2422.92   210       100          0    2    22      9         212  57564\n",
              "199999  1766.54   510       100          0    7    19      5         512  57564"
            ]
          },
          "metadata": {},
          "execution_count": 5
        }
      ]
    },
    {
      "cell_type": "code",
      "metadata": {
        "id": "heHcPwP7pxwq"
      },
      "source": [
        "index = dataset.pop(\"Index\")\n",
        "dataset[\"Airport1\"] = (index == 29613)*1\n",
        "dataset[\"Airport2\"] = (index == 57564)*1\n",
        "dataset[\"Airport3\"] = (index == 17481)*1\n",
        "dataset[\"Airport4\"] = (index == 19442)*1\n",
        "dataset[\"Airport5\"] = (index == 19540)*1\n",
        "dataset[\"Airport6\"] = (index == 29933)*1\n",
        "dataset[\"Airport7\"] = (index == 18873)*1\n",
        "dataset[\"Airport8\"] = (index == 17467)*1"
      ],
      "execution_count": null,
      "outputs": []
    },
    {
      "cell_type": "code",
      "metadata": {
        "id": "l06tvJF5iaxv"
      },
      "source": [
        "day = dataset.pop(\"Day\")\n",
        "dataset[\"Mon\"] = (day == 1)*1\n",
        "dataset[\"Tue\"] = (day == 2)*1\n",
        "dataset[\"Wed\"] = (day == 3)*1\n",
        "dataset[\"Thu\"] = (day == 4)*1\n",
        "dataset[\"Fri\"] = (day == 5)*1\n",
        "dataset[\"Sat\"] = (day == 6)*1\n",
        "dataset[\"Sun\"] = (day == 7)*1"
      ],
      "execution_count": null,
      "outputs": []
    },
    {
      "cell_type": "code",
      "metadata": {
        "colab": {
          "base_uri": "https://localhost:8080/",
          "height": 206
        },
        "id": "wo4LiUqWifDb",
        "outputId": "86590cf1-313a-4549-9c92-40686a0f1a5d"
      },
      "source": [
        "dataset.tail()"
      ],
      "execution_count": null,
      "outputs": [
        {
          "output_type": "execute_result",
          "data": {
            "text/html": [
              "<div>\n",
              "<style scoped>\n",
              "    .dataframe tbody tr th:only-of-type {\n",
              "        vertical-align: middle;\n",
              "    }\n",
              "\n",
              "    .dataframe tbody tr th {\n",
              "        vertical-align: top;\n",
              "    }\n",
              "\n",
              "    .dataframe thead th {\n",
              "        text-align: right;\n",
              "    }\n",
              "</style>\n",
              "<table border=\"1\" class=\"dataframe\">\n",
              "  <thead>\n",
              "    <tr style=\"text-align: right;\">\n",
              "      <th></th>\n",
              "      <th>Price</th>\n",
              "      <th>Wait</th>\n",
              "      <th>Distance</th>\n",
              "      <th>Transport</th>\n",
              "      <th>Date</th>\n",
              "      <th>Month</th>\n",
              "      <th>Time Taken</th>\n",
              "      <th>Mon</th>\n",
              "      <th>Tue</th>\n",
              "      <th>Wed</th>\n",
              "      <th>Thu</th>\n",
              "      <th>Fri</th>\n",
              "      <th>Sat</th>\n",
              "      <th>Sun</th>\n",
              "      <th>Airport1</th>\n",
              "      <th>Airport2</th>\n",
              "      <th>Airport3</th>\n",
              "      <th>Airport4</th>\n",
              "      <th>Airport5</th>\n",
              "      <th>Airport6</th>\n",
              "      <th>Airport7</th>\n",
              "      <th>Airport8</th>\n",
              "    </tr>\n",
              "  </thead>\n",
              "  <tbody>\n",
              "    <tr>\n",
              "      <th>199995</th>\n",
              "      <td>1501.59</td>\n",
              "      <td>60</td>\n",
              "      <td>1000</td>\n",
              "      <td>0</td>\n",
              "      <td>3</td>\n",
              "      <td>9</td>\n",
              "      <td>74</td>\n",
              "      <td>0</td>\n",
              "      <td>1</td>\n",
              "      <td>0</td>\n",
              "      <td>0</td>\n",
              "      <td>0</td>\n",
              "      <td>0</td>\n",
              "      <td>0</td>\n",
              "      <td>0</td>\n",
              "      <td>0</td>\n",
              "      <td>0</td>\n",
              "      <td>1</td>\n",
              "      <td>0</td>\n",
              "      <td>0</td>\n",
              "      <td>0</td>\n",
              "      <td>0</td>\n",
              "    </tr>\n",
              "    <tr>\n",
              "      <th>199996</th>\n",
              "      <td>1473.75</td>\n",
              "      <td>450</td>\n",
              "      <td>2500</td>\n",
              "      <td>1</td>\n",
              "      <td>25</td>\n",
              "      <td>1</td>\n",
              "      <td>458</td>\n",
              "      <td>0</td>\n",
              "      <td>0</td>\n",
              "      <td>0</td>\n",
              "      <td>0</td>\n",
              "      <td>1</td>\n",
              "      <td>0</td>\n",
              "      <td>0</td>\n",
              "      <td>1</td>\n",
              "      <td>0</td>\n",
              "      <td>0</td>\n",
              "      <td>0</td>\n",
              "      <td>0</td>\n",
              "      <td>0</td>\n",
              "      <td>0</td>\n",
              "      <td>0</td>\n",
              "    </tr>\n",
              "    <tr>\n",
              "      <th>199997</th>\n",
              "      <td>2210.82</td>\n",
              "      <td>0</td>\n",
              "      <td>1300</td>\n",
              "      <td>1</td>\n",
              "      <td>6</td>\n",
              "      <td>6</td>\n",
              "      <td>4</td>\n",
              "      <td>0</td>\n",
              "      <td>0</td>\n",
              "      <td>0</td>\n",
              "      <td>1</td>\n",
              "      <td>0</td>\n",
              "      <td>0</td>\n",
              "      <td>0</td>\n",
              "      <td>0</td>\n",
              "      <td>0</td>\n",
              "      <td>0</td>\n",
              "      <td>0</td>\n",
              "      <td>0</td>\n",
              "      <td>0</td>\n",
              "      <td>1</td>\n",
              "      <td>0</td>\n",
              "    </tr>\n",
              "    <tr>\n",
              "      <th>199998</th>\n",
              "      <td>2422.92</td>\n",
              "      <td>210</td>\n",
              "      <td>100</td>\n",
              "      <td>0</td>\n",
              "      <td>22</td>\n",
              "      <td>9</td>\n",
              "      <td>212</td>\n",
              "      <td>0</td>\n",
              "      <td>1</td>\n",
              "      <td>0</td>\n",
              "      <td>0</td>\n",
              "      <td>0</td>\n",
              "      <td>0</td>\n",
              "      <td>0</td>\n",
              "      <td>0</td>\n",
              "      <td>1</td>\n",
              "      <td>0</td>\n",
              "      <td>0</td>\n",
              "      <td>0</td>\n",
              "      <td>0</td>\n",
              "      <td>0</td>\n",
              "      <td>0</td>\n",
              "    </tr>\n",
              "    <tr>\n",
              "      <th>199999</th>\n",
              "      <td>1766.54</td>\n",
              "      <td>510</td>\n",
              "      <td>100</td>\n",
              "      <td>0</td>\n",
              "      <td>19</td>\n",
              "      <td>5</td>\n",
              "      <td>512</td>\n",
              "      <td>0</td>\n",
              "      <td>0</td>\n",
              "      <td>0</td>\n",
              "      <td>0</td>\n",
              "      <td>0</td>\n",
              "      <td>0</td>\n",
              "      <td>1</td>\n",
              "      <td>0</td>\n",
              "      <td>1</td>\n",
              "      <td>0</td>\n",
              "      <td>0</td>\n",
              "      <td>0</td>\n",
              "      <td>0</td>\n",
              "      <td>0</td>\n",
              "      <td>0</td>\n",
              "    </tr>\n",
              "  </tbody>\n",
              "</table>\n",
              "</div>"
            ],
            "text/plain": [
              "          Price  Wait  Distance  ...  Airport6  Airport7  Airport8\n",
              "199995  1501.59    60      1000  ...         0         0         0\n",
              "199996  1473.75   450      2500  ...         0         0         0\n",
              "199997  2210.82     0      1300  ...         0         1         0\n",
              "199998  2422.92   210       100  ...         0         0         0\n",
              "199999  1766.54   510       100  ...         0         0         0\n",
              "\n",
              "[5 rows x 22 columns]"
            ]
          },
          "metadata": {},
          "execution_count": 32
        }
      ]
    },
    {
      "cell_type": "markdown",
      "metadata": {
        "id": "mFJKzstoe7sM"
      },
      "source": [
        "**# Wait time through security and airport queues.**\n"
      ]
    },
    {
      "cell_type": "markdown",
      "metadata": {
        "id": "_3tid5RHf1RS"
      },
      "source": [
        "This model is trained using DNN and the dataset that was presented in the challenge."
      ]
    },
    {
      "cell_type": "code",
      "metadata": {
        "id": "kOOsmebQfyTa"
      },
      "source": [
        "dataset1 = dataset.copy()\n",
        "dataset1.drop(\"Price\", axis = 1,inplace = True)\n",
        "dataset1.drop(\"Transport\",axis = 1, inplace = True)"
      ],
      "execution_count": null,
      "outputs": []
    },
    {
      "cell_type": "code",
      "metadata": {
        "id": "FFHMQ9QSi3qx"
      },
      "source": [
        "dataset1.drop(\"Time Taken\",axis = 1, inplace=True)"
      ],
      "execution_count": null,
      "outputs": []
    },
    {
      "cell_type": "code",
      "metadata": {
        "colab": {
          "base_uri": "https://localhost:8080/"
        },
        "id": "yHaaXshijEKl",
        "outputId": "2dcc2ee7-b162-45e6-becf-f5b6dba679ae"
      },
      "source": [
        "#Split data into train and test\n",
        "train_dataset1 = dataset1.sample(frac = 0.8, random_state = 0)\n",
        "test_dataset1 = dataset1.drop(train_dataset1.index)\n",
        "\n",
        "#split the data into features and labels.\n",
        "train_features1 = train_dataset1.copy()\n",
        "test_features1  = train_dataset1.copy()\n",
        "\n",
        "train_labels1 = train_features1.pop(\"Wait\")\n",
        "test_labels1 = test_features1.pop(\"Wait\")\n",
        "\n",
        "#Normalization layer\n",
        "normalizer = preprocessing.Normalization()\n",
        "\n",
        "#adapt to data\n",
        "normalizer.adapt(np.array(train_features1))\n",
        "\n",
        "print(normalizer.mean.numpy())\n",
        "\n"
      ],
      "execution_count": null,
      "outputs": [
        {
          "output_type": "stream",
          "name": "stdout",
          "text": [
            "[[1511.992   15.714    5.962    0.143    0.143    0.144    0.143    0.144\n",
            "     0.141    0.143    0.125    0.126    0.126    0.126    0.124    0.125\n",
            "     0.125    0.124]]\n"
          ]
        }
      ]
    },
    {
      "cell_type": "code",
      "metadata": {
        "colab": {
          "base_uri": "https://localhost:8080/"
        },
        "id": "nuBbJeZJjGcM",
        "outputId": "052c5b5c-4a95-41bc-a49e-bde024cdb785"
      },
      "source": [
        "loss = keras.losses.MeanAbsoluteError()\n",
        "optim = keras.optimizers.Adam(lr=0.01)"
      ],
      "execution_count": null,
      "outputs": [
        {
          "output_type": "stream",
          "name": "stderr",
          "text": [
            "/usr/local/lib/python3.7/dist-packages/keras/optimizer_v2/adam.py:105: UserWarning: The `lr` argument is deprecated, use `learning_rate` instead.\n",
            "  super(Adam, self).__init__(name, **kwargs)\n"
          ]
        }
      ]
    },
    {
      "cell_type": "code",
      "metadata": {
        "id": "PnQbaL5IjKH6"
      },
      "source": [
        "#DNN\n",
        "dnn_model_first = keras.Sequential([\n",
        "            normalizer,\n",
        "            layers.Dense(128,activation= \"relu\"),\n",
        "            layers.Dense(65,activation = \"relu\"),\n",
        "            layers.Dense(64,activation =\"relu\"),\n",
        "            layers.Dense(64,activation = \"relu\"),\n",
        "            layers.Dense(1)\n",
        "])\n"
      ],
      "execution_count": null,
      "outputs": []
    },
    {
      "cell_type": "code",
      "metadata": {
        "colab": {
          "base_uri": "https://localhost:8080/"
        },
        "id": "QE-at8QpjPMi",
        "outputId": "c6f4eb6f-5582-4272-ee59-b4b6d7206d83"
      },
      "source": [
        "dnn_model_first.compile(loss = loss,optimizer = tf.keras.optimizers.Adam(0.001))\n",
        "dnn_model_first.summary()\n"
      ],
      "execution_count": null,
      "outputs": [
        {
          "output_type": "stream",
          "name": "stdout",
          "text": [
            "Model: \"sequential_3\"\n",
            "_________________________________________________________________\n",
            " Layer (type)                Output Shape              Param #   \n",
            "=================================================================\n",
            " normalization_4 (Normalizat  (None, 18)               37        \n",
            " ion)                                                            \n",
            "                                                                 \n",
            " dense_15 (Dense)            (None, 128)               2432      \n",
            "                                                                 \n",
            " dense_16 (Dense)            (None, 65)                8385      \n",
            "                                                                 \n",
            " dense_17 (Dense)            (None, 64)                4224      \n",
            "                                                                 \n",
            " dense_18 (Dense)            (None, 64)                4160      \n",
            "                                                                 \n",
            " dense_19 (Dense)            (None, 1)                 65        \n",
            "                                                                 \n",
            "=================================================================\n",
            "Total params: 19,303\n",
            "Trainable params: 19,266\n",
            "Non-trainable params: 37\n",
            "_________________________________________________________________\n"
          ]
        }
      ]
    },
    {
      "cell_type": "code",
      "metadata": {
        "colab": {
          "base_uri": "https://localhost:8080/"
        },
        "id": "kWzBQxZLjQw7",
        "outputId": "4acda01f-d865-46d4-c715-073a0d3b58d2"
      },
      "source": [
        "dnn_model_first.fit(\n",
        "    train_features1, train_labels1,\n",
        "    validation_split=0.2,\n",
        "    verbose=1, epochs=100)"
      ],
      "execution_count": null,
      "outputs": [
        {
          "output_type": "stream",
          "name": "stdout",
          "text": [
            "Epoch 1/10\n",
            "4000/4000 [==============================] - 9s 2ms/step - loss: 3.6093 - val_loss: 0.6699\n",
            "Epoch 2/10\n",
            "4000/4000 [==============================] - 9s 2ms/step - loss: 0.9372 - val_loss: 1.3063\n",
            "Epoch 3/10\n",
            "4000/4000 [==============================] - 9s 2ms/step - loss: 0.8527 - val_loss: 0.7525\n",
            "Epoch 4/10\n",
            "4000/4000 [==============================] - 9s 2ms/step - loss: 0.8070 - val_loss: 0.6252\n",
            "Epoch 5/10\n",
            "4000/4000 [==============================] - 9s 2ms/step - loss: 0.7626 - val_loss: 0.5558\n",
            "Epoch 6/10\n",
            "4000/4000 [==============================] - 9s 2ms/step - loss: 0.7273 - val_loss: 0.4374\n",
            "Epoch 7/10\n",
            "4000/4000 [==============================] - 9s 2ms/step - loss: 0.6721 - val_loss: 0.4743\n",
            "Epoch 8/10\n",
            "4000/4000 [==============================] - 9s 2ms/step - loss: 0.6787 - val_loss: 0.4720\n",
            "Epoch 9/10\n",
            "4000/4000 [==============================] - 9s 2ms/step - loss: 0.6565 - val_loss: 0.5234\n",
            "Epoch 10/10\n",
            "4000/4000 [==============================] - 9s 2ms/step - loss: 0.6400 - val_loss: 0.3854\n"
          ]
        },
        {
          "output_type": "execute_result",
          "data": {
            "text/plain": [
              "<keras.callbacks.History at 0x7fb36716a150>"
            ]
          },
          "metadata": {},
          "execution_count": 39
        }
      ]
    },
    {
      "cell_type": "code",
      "metadata": {
        "colab": {
          "base_uri": "https://localhost:8080/"
        },
        "id": "pxWTVlqljXo0",
        "outputId": "32ca3b32-84bd-4baa-ceb5-86ca4ad49482"
      },
      "source": [
        "import os\n",
        "!pip install pyyaml h5py\n",
        "dnn_model_first.save(\"FirstHalf DNN nonv2 hd5\")\n",
        "dnn_model_first.save(\"FirstHalf DNN hd5v2.h5\")"
      ],
      "execution_count": null,
      "outputs": [
        {
          "output_type": "stream",
          "name": "stdout",
          "text": [
            "Requirement already satisfied: pyyaml in /usr/local/lib/python3.7/dist-packages (3.13)\n",
            "Requirement already satisfied: h5py in /usr/local/lib/python3.7/dist-packages (3.1.0)\n",
            "Requirement already satisfied: numpy>=1.14.5 in /usr/local/lib/python3.7/dist-packages (from h5py) (1.19.5)\n",
            "Requirement already satisfied: cached-property in /usr/local/lib/python3.7/dist-packages (from h5py) (1.5.2)\n",
            "INFO:tensorflow:Assets written to: FirstHalf DNN nonv2 hd5/assets\n"
          ]
        }
      ]
    },
    {
      "cell_type": "code",
      "metadata": {
        "colab": {
          "base_uri": "https://localhost:8080/"
        },
        "id": "Ul1Y6NvPjhDu",
        "outputId": "a2d6db44-74d9-4a1d-b208-c31b350a356f"
      },
      "source": [
        "test_features1 = test_features1[:40000]\n",
        "dnn_model_first.evaluate(test_features1,test_dataset1,verbose = 1)\n"
      ],
      "execution_count": null,
      "outputs": [
        {
          "output_type": "stream",
          "name": "stdout",
          "text": [
            "1250/1250 [==============================] - 2s 2ms/step - loss: 212.7708\n"
          ]
        },
        {
          "output_type": "execute_result",
          "data": {
            "text/plain": [
              "212.77078247070312"
            ]
          },
          "metadata": {},
          "execution_count": 41
        }
      ]
    },
    {
      "cell_type": "markdown",
      "metadata": {
        "id": "I2IrekqzkAPL"
      },
      "source": [
        "# Training for second part."
      ]
    },
    {
      "cell_type": "code",
      "metadata": {
        "colab": {
          "base_uri": "https://localhost:8080/",
          "height": 206
        },
        "id": "kj_UF5Hbk6Up",
        "outputId": "38a3c8ae-3d5d-4973-d47d-87f645157265"
      },
      "source": [
        "dataset2 = dataset.copy()\n",
        "dataset.tail()"
      ],
      "execution_count": null,
      "outputs": [
        {
          "output_type": "execute_result",
          "data": {
            "text/html": [
              "<div>\n",
              "<style scoped>\n",
              "    .dataframe tbody tr th:only-of-type {\n",
              "        vertical-align: middle;\n",
              "    }\n",
              "\n",
              "    .dataframe tbody tr th {\n",
              "        vertical-align: top;\n",
              "    }\n",
              "\n",
              "    .dataframe thead th {\n",
              "        text-align: right;\n",
              "    }\n",
              "</style>\n",
              "<table border=\"1\" class=\"dataframe\">\n",
              "  <thead>\n",
              "    <tr style=\"text-align: right;\">\n",
              "      <th></th>\n",
              "      <th>Price</th>\n",
              "      <th>Wait</th>\n",
              "      <th>Distance</th>\n",
              "      <th>Transport</th>\n",
              "      <th>Date</th>\n",
              "      <th>Month</th>\n",
              "      <th>Time Taken</th>\n",
              "      <th>Mon</th>\n",
              "      <th>Tue</th>\n",
              "      <th>Wed</th>\n",
              "      <th>Thu</th>\n",
              "      <th>Fri</th>\n",
              "      <th>Sat</th>\n",
              "      <th>Sun</th>\n",
              "      <th>Airport1</th>\n",
              "      <th>Airport2</th>\n",
              "      <th>Airport3</th>\n",
              "      <th>Airport4</th>\n",
              "      <th>Airport5</th>\n",
              "      <th>Airport6</th>\n",
              "      <th>Airport7</th>\n",
              "      <th>Airport8</th>\n",
              "    </tr>\n",
              "  </thead>\n",
              "  <tbody>\n",
              "    <tr>\n",
              "      <th>199995</th>\n",
              "      <td>1501.59</td>\n",
              "      <td>60</td>\n",
              "      <td>1000</td>\n",
              "      <td>0</td>\n",
              "      <td>3</td>\n",
              "      <td>9</td>\n",
              "      <td>74</td>\n",
              "      <td>0</td>\n",
              "      <td>1</td>\n",
              "      <td>0</td>\n",
              "      <td>0</td>\n",
              "      <td>0</td>\n",
              "      <td>0</td>\n",
              "      <td>0</td>\n",
              "      <td>0</td>\n",
              "      <td>0</td>\n",
              "      <td>0</td>\n",
              "      <td>1</td>\n",
              "      <td>0</td>\n",
              "      <td>0</td>\n",
              "      <td>0</td>\n",
              "      <td>0</td>\n",
              "    </tr>\n",
              "    <tr>\n",
              "      <th>199996</th>\n",
              "      <td>1473.75</td>\n",
              "      <td>450</td>\n",
              "      <td>2500</td>\n",
              "      <td>1</td>\n",
              "      <td>25</td>\n",
              "      <td>1</td>\n",
              "      <td>458</td>\n",
              "      <td>0</td>\n",
              "      <td>0</td>\n",
              "      <td>0</td>\n",
              "      <td>0</td>\n",
              "      <td>1</td>\n",
              "      <td>0</td>\n",
              "      <td>0</td>\n",
              "      <td>1</td>\n",
              "      <td>0</td>\n",
              "      <td>0</td>\n",
              "      <td>0</td>\n",
              "      <td>0</td>\n",
              "      <td>0</td>\n",
              "      <td>0</td>\n",
              "      <td>0</td>\n",
              "    </tr>\n",
              "    <tr>\n",
              "      <th>199997</th>\n",
              "      <td>2210.82</td>\n",
              "      <td>0</td>\n",
              "      <td>1300</td>\n",
              "      <td>1</td>\n",
              "      <td>6</td>\n",
              "      <td>6</td>\n",
              "      <td>4</td>\n",
              "      <td>0</td>\n",
              "      <td>0</td>\n",
              "      <td>0</td>\n",
              "      <td>1</td>\n",
              "      <td>0</td>\n",
              "      <td>0</td>\n",
              "      <td>0</td>\n",
              "      <td>0</td>\n",
              "      <td>0</td>\n",
              "      <td>0</td>\n",
              "      <td>0</td>\n",
              "      <td>0</td>\n",
              "      <td>0</td>\n",
              "      <td>1</td>\n",
              "      <td>0</td>\n",
              "    </tr>\n",
              "    <tr>\n",
              "      <th>199998</th>\n",
              "      <td>2422.92</td>\n",
              "      <td>210</td>\n",
              "      <td>100</td>\n",
              "      <td>0</td>\n",
              "      <td>22</td>\n",
              "      <td>9</td>\n",
              "      <td>212</td>\n",
              "      <td>0</td>\n",
              "      <td>1</td>\n",
              "      <td>0</td>\n",
              "      <td>0</td>\n",
              "      <td>0</td>\n",
              "      <td>0</td>\n",
              "      <td>0</td>\n",
              "      <td>0</td>\n",
              "      <td>1</td>\n",
              "      <td>0</td>\n",
              "      <td>0</td>\n",
              "      <td>0</td>\n",
              "      <td>0</td>\n",
              "      <td>0</td>\n",
              "      <td>0</td>\n",
              "    </tr>\n",
              "    <tr>\n",
              "      <th>199999</th>\n",
              "      <td>1766.54</td>\n",
              "      <td>510</td>\n",
              "      <td>100</td>\n",
              "      <td>0</td>\n",
              "      <td>19</td>\n",
              "      <td>5</td>\n",
              "      <td>512</td>\n",
              "      <td>0</td>\n",
              "      <td>0</td>\n",
              "      <td>0</td>\n",
              "      <td>0</td>\n",
              "      <td>0</td>\n",
              "      <td>0</td>\n",
              "      <td>1</td>\n",
              "      <td>0</td>\n",
              "      <td>1</td>\n",
              "      <td>0</td>\n",
              "      <td>0</td>\n",
              "      <td>0</td>\n",
              "      <td>0</td>\n",
              "      <td>0</td>\n",
              "      <td>0</td>\n",
              "    </tr>\n",
              "  </tbody>\n",
              "</table>\n",
              "</div>"
            ],
            "text/plain": [
              "          Price  Wait  Distance  ...  Airport6  Airport7  Airport8\n",
              "199995  1501.59    60      1000  ...         0         0         0\n",
              "199996  1473.75   450      2500  ...         0         0         0\n",
              "199997  2210.82     0      1300  ...         0         1         0\n",
              "199998  2422.92   210       100  ...         0         0         0\n",
              "199999  1766.54   510       100  ...         0         0         0\n",
              "\n",
              "[5 rows x 22 columns]"
            ]
          },
          "metadata": {},
          "execution_count": 42
        }
      ]
    },
    {
      "cell_type": "code",
      "metadata": {
        "id": "7XKy30LmlKQS"
      },
      "source": [
        "transport = dataset2.pop(\"Transport\")\n",
        "dataset2[\"Bus\"] = (transport == 1)*1\n",
        "dataset2[\"Walk\"] = (transport == 0)*1"
      ],
      "execution_count": null,
      "outputs": []
    },
    {
      "cell_type": "code",
      "metadata": {
        "colab": {
          "base_uri": "https://localhost:8080/",
          "height": 206
        },
        "id": "7ucB5EsWmY6S",
        "outputId": "3dc63a49-9a69-4f3f-9fd9-fc113394bc59"
      },
      "source": [
        "dataset2.tail()"
      ],
      "execution_count": null,
      "outputs": [
        {
          "output_type": "execute_result",
          "data": {
            "text/html": [
              "<div>\n",
              "<style scoped>\n",
              "    .dataframe tbody tr th:only-of-type {\n",
              "        vertical-align: middle;\n",
              "    }\n",
              "\n",
              "    .dataframe tbody tr th {\n",
              "        vertical-align: top;\n",
              "    }\n",
              "\n",
              "    .dataframe thead th {\n",
              "        text-align: right;\n",
              "    }\n",
              "</style>\n",
              "<table border=\"1\" class=\"dataframe\">\n",
              "  <thead>\n",
              "    <tr style=\"text-align: right;\">\n",
              "      <th></th>\n",
              "      <th>Price</th>\n",
              "      <th>Wait</th>\n",
              "      <th>Distance</th>\n",
              "      <th>Date</th>\n",
              "      <th>Month</th>\n",
              "      <th>Time Taken</th>\n",
              "      <th>Mon</th>\n",
              "      <th>Tue</th>\n",
              "      <th>Wed</th>\n",
              "      <th>Thu</th>\n",
              "      <th>Fri</th>\n",
              "      <th>Sat</th>\n",
              "      <th>Sun</th>\n",
              "      <th>Airport1</th>\n",
              "      <th>Airport2</th>\n",
              "      <th>Airport3</th>\n",
              "      <th>Airport4</th>\n",
              "      <th>Airport5</th>\n",
              "      <th>Airport6</th>\n",
              "      <th>Airport7</th>\n",
              "      <th>Airport8</th>\n",
              "      <th>Bus</th>\n",
              "      <th>Walk</th>\n",
              "    </tr>\n",
              "  </thead>\n",
              "  <tbody>\n",
              "    <tr>\n",
              "      <th>199995</th>\n",
              "      <td>1501.59</td>\n",
              "      <td>60</td>\n",
              "      <td>1000</td>\n",
              "      <td>3</td>\n",
              "      <td>9</td>\n",
              "      <td>74</td>\n",
              "      <td>0</td>\n",
              "      <td>1</td>\n",
              "      <td>0</td>\n",
              "      <td>0</td>\n",
              "      <td>0</td>\n",
              "      <td>0</td>\n",
              "      <td>0</td>\n",
              "      <td>0</td>\n",
              "      <td>0</td>\n",
              "      <td>0</td>\n",
              "      <td>1</td>\n",
              "      <td>0</td>\n",
              "      <td>0</td>\n",
              "      <td>0</td>\n",
              "      <td>0</td>\n",
              "      <td>0</td>\n",
              "      <td>1</td>\n",
              "    </tr>\n",
              "    <tr>\n",
              "      <th>199996</th>\n",
              "      <td>1473.75</td>\n",
              "      <td>450</td>\n",
              "      <td>2500</td>\n",
              "      <td>25</td>\n",
              "      <td>1</td>\n",
              "      <td>458</td>\n",
              "      <td>0</td>\n",
              "      <td>0</td>\n",
              "      <td>0</td>\n",
              "      <td>0</td>\n",
              "      <td>1</td>\n",
              "      <td>0</td>\n",
              "      <td>0</td>\n",
              "      <td>1</td>\n",
              "      <td>0</td>\n",
              "      <td>0</td>\n",
              "      <td>0</td>\n",
              "      <td>0</td>\n",
              "      <td>0</td>\n",
              "      <td>0</td>\n",
              "      <td>0</td>\n",
              "      <td>1</td>\n",
              "      <td>0</td>\n",
              "    </tr>\n",
              "    <tr>\n",
              "      <th>199997</th>\n",
              "      <td>2210.82</td>\n",
              "      <td>0</td>\n",
              "      <td>1300</td>\n",
              "      <td>6</td>\n",
              "      <td>6</td>\n",
              "      <td>4</td>\n",
              "      <td>0</td>\n",
              "      <td>0</td>\n",
              "      <td>0</td>\n",
              "      <td>1</td>\n",
              "      <td>0</td>\n",
              "      <td>0</td>\n",
              "      <td>0</td>\n",
              "      <td>0</td>\n",
              "      <td>0</td>\n",
              "      <td>0</td>\n",
              "      <td>0</td>\n",
              "      <td>0</td>\n",
              "      <td>0</td>\n",
              "      <td>1</td>\n",
              "      <td>0</td>\n",
              "      <td>1</td>\n",
              "      <td>0</td>\n",
              "    </tr>\n",
              "    <tr>\n",
              "      <th>199998</th>\n",
              "      <td>2422.92</td>\n",
              "      <td>210</td>\n",
              "      <td>100</td>\n",
              "      <td>22</td>\n",
              "      <td>9</td>\n",
              "      <td>212</td>\n",
              "      <td>0</td>\n",
              "      <td>1</td>\n",
              "      <td>0</td>\n",
              "      <td>0</td>\n",
              "      <td>0</td>\n",
              "      <td>0</td>\n",
              "      <td>0</td>\n",
              "      <td>0</td>\n",
              "      <td>1</td>\n",
              "      <td>0</td>\n",
              "      <td>0</td>\n",
              "      <td>0</td>\n",
              "      <td>0</td>\n",
              "      <td>0</td>\n",
              "      <td>0</td>\n",
              "      <td>0</td>\n",
              "      <td>1</td>\n",
              "    </tr>\n",
              "    <tr>\n",
              "      <th>199999</th>\n",
              "      <td>1766.54</td>\n",
              "      <td>510</td>\n",
              "      <td>100</td>\n",
              "      <td>19</td>\n",
              "      <td>5</td>\n",
              "      <td>512</td>\n",
              "      <td>0</td>\n",
              "      <td>0</td>\n",
              "      <td>0</td>\n",
              "      <td>0</td>\n",
              "      <td>0</td>\n",
              "      <td>0</td>\n",
              "      <td>1</td>\n",
              "      <td>0</td>\n",
              "      <td>1</td>\n",
              "      <td>0</td>\n",
              "      <td>0</td>\n",
              "      <td>0</td>\n",
              "      <td>0</td>\n",
              "      <td>0</td>\n",
              "      <td>0</td>\n",
              "      <td>0</td>\n",
              "      <td>1</td>\n",
              "    </tr>\n",
              "  </tbody>\n",
              "</table>\n",
              "</div>"
            ],
            "text/plain": [
              "          Price  Wait  Distance  Date  ...  Airport7  Airport8  Bus  Walk\n",
              "199995  1501.59    60      1000     3  ...         0         0    0     1\n",
              "199996  1473.75   450      2500    25  ...         0         0    1     0\n",
              "199997  2210.82     0      1300     6  ...         1         0    1     0\n",
              "199998  2422.92   210       100    22  ...         0         0    0     1\n",
              "199999  1766.54   510       100    19  ...         0         0    0     1\n",
              "\n",
              "[5 rows x 23 columns]"
            ]
          },
          "metadata": {},
          "execution_count": 44
        }
      ]
    },
    {
      "cell_type": "code",
      "metadata": {
        "colab": {
          "base_uri": "https://localhost:8080/",
          "height": 206
        },
        "id": "X5kHc4Ocmjjv",
        "outputId": "f1960965-0190-41f2-c26a-2e35e97dc1a9"
      },
      "source": [
        "dataset2[\"New time\"] = dataset2[\"Time Taken\"] - dataset2[\"Wait\"]\n",
        "dataset2.pop(\"Wait\")\n",
        "dataset2.pop(\"Time Taken\")\n",
        "dataset2.tail()"
      ],
      "execution_count": null,
      "outputs": [
        {
          "output_type": "execute_result",
          "data": {
            "text/html": [
              "<div>\n",
              "<style scoped>\n",
              "    .dataframe tbody tr th:only-of-type {\n",
              "        vertical-align: middle;\n",
              "    }\n",
              "\n",
              "    .dataframe tbody tr th {\n",
              "        vertical-align: top;\n",
              "    }\n",
              "\n",
              "    .dataframe thead th {\n",
              "        text-align: right;\n",
              "    }\n",
              "</style>\n",
              "<table border=\"1\" class=\"dataframe\">\n",
              "  <thead>\n",
              "    <tr style=\"text-align: right;\">\n",
              "      <th></th>\n",
              "      <th>Price</th>\n",
              "      <th>Distance</th>\n",
              "      <th>Date</th>\n",
              "      <th>Month</th>\n",
              "      <th>Mon</th>\n",
              "      <th>Tue</th>\n",
              "      <th>Wed</th>\n",
              "      <th>Thu</th>\n",
              "      <th>Fri</th>\n",
              "      <th>Sat</th>\n",
              "      <th>Sun</th>\n",
              "      <th>Airport1</th>\n",
              "      <th>Airport2</th>\n",
              "      <th>Airport3</th>\n",
              "      <th>Airport4</th>\n",
              "      <th>Airport5</th>\n",
              "      <th>Airport6</th>\n",
              "      <th>Airport7</th>\n",
              "      <th>Airport8</th>\n",
              "      <th>Bus</th>\n",
              "      <th>Walk</th>\n",
              "      <th>New time</th>\n",
              "    </tr>\n",
              "  </thead>\n",
              "  <tbody>\n",
              "    <tr>\n",
              "      <th>199995</th>\n",
              "      <td>1501.59</td>\n",
              "      <td>1000</td>\n",
              "      <td>3</td>\n",
              "      <td>9</td>\n",
              "      <td>0</td>\n",
              "      <td>1</td>\n",
              "      <td>0</td>\n",
              "      <td>0</td>\n",
              "      <td>0</td>\n",
              "      <td>0</td>\n",
              "      <td>0</td>\n",
              "      <td>0</td>\n",
              "      <td>0</td>\n",
              "      <td>0</td>\n",
              "      <td>1</td>\n",
              "      <td>0</td>\n",
              "      <td>0</td>\n",
              "      <td>0</td>\n",
              "      <td>0</td>\n",
              "      <td>0</td>\n",
              "      <td>1</td>\n",
              "      <td>14</td>\n",
              "    </tr>\n",
              "    <tr>\n",
              "      <th>199996</th>\n",
              "      <td>1473.75</td>\n",
              "      <td>2500</td>\n",
              "      <td>25</td>\n",
              "      <td>1</td>\n",
              "      <td>0</td>\n",
              "      <td>0</td>\n",
              "      <td>0</td>\n",
              "      <td>0</td>\n",
              "      <td>1</td>\n",
              "      <td>0</td>\n",
              "      <td>0</td>\n",
              "      <td>1</td>\n",
              "      <td>0</td>\n",
              "      <td>0</td>\n",
              "      <td>0</td>\n",
              "      <td>0</td>\n",
              "      <td>0</td>\n",
              "      <td>0</td>\n",
              "      <td>0</td>\n",
              "      <td>1</td>\n",
              "      <td>0</td>\n",
              "      <td>8</td>\n",
              "    </tr>\n",
              "    <tr>\n",
              "      <th>199997</th>\n",
              "      <td>2210.82</td>\n",
              "      <td>1300</td>\n",
              "      <td>6</td>\n",
              "      <td>6</td>\n",
              "      <td>0</td>\n",
              "      <td>0</td>\n",
              "      <td>0</td>\n",
              "      <td>1</td>\n",
              "      <td>0</td>\n",
              "      <td>0</td>\n",
              "      <td>0</td>\n",
              "      <td>0</td>\n",
              "      <td>0</td>\n",
              "      <td>0</td>\n",
              "      <td>0</td>\n",
              "      <td>0</td>\n",
              "      <td>0</td>\n",
              "      <td>1</td>\n",
              "      <td>0</td>\n",
              "      <td>1</td>\n",
              "      <td>0</td>\n",
              "      <td>4</td>\n",
              "    </tr>\n",
              "    <tr>\n",
              "      <th>199998</th>\n",
              "      <td>2422.92</td>\n",
              "      <td>100</td>\n",
              "      <td>22</td>\n",
              "      <td>9</td>\n",
              "      <td>0</td>\n",
              "      <td>1</td>\n",
              "      <td>0</td>\n",
              "      <td>0</td>\n",
              "      <td>0</td>\n",
              "      <td>0</td>\n",
              "      <td>0</td>\n",
              "      <td>0</td>\n",
              "      <td>1</td>\n",
              "      <td>0</td>\n",
              "      <td>0</td>\n",
              "      <td>0</td>\n",
              "      <td>0</td>\n",
              "      <td>0</td>\n",
              "      <td>0</td>\n",
              "      <td>0</td>\n",
              "      <td>1</td>\n",
              "      <td>2</td>\n",
              "    </tr>\n",
              "    <tr>\n",
              "      <th>199999</th>\n",
              "      <td>1766.54</td>\n",
              "      <td>100</td>\n",
              "      <td>19</td>\n",
              "      <td>5</td>\n",
              "      <td>0</td>\n",
              "      <td>0</td>\n",
              "      <td>0</td>\n",
              "      <td>0</td>\n",
              "      <td>0</td>\n",
              "      <td>0</td>\n",
              "      <td>1</td>\n",
              "      <td>0</td>\n",
              "      <td>1</td>\n",
              "      <td>0</td>\n",
              "      <td>0</td>\n",
              "      <td>0</td>\n",
              "      <td>0</td>\n",
              "      <td>0</td>\n",
              "      <td>0</td>\n",
              "      <td>0</td>\n",
              "      <td>1</td>\n",
              "      <td>2</td>\n",
              "    </tr>\n",
              "  </tbody>\n",
              "</table>\n",
              "</div>"
            ],
            "text/plain": [
              "          Price  Distance  Date  Month  ...  Airport8  Bus  Walk  New time\n",
              "199995  1501.59      1000     3      9  ...         0    0     1        14\n",
              "199996  1473.75      2500    25      1  ...         0    1     0         8\n",
              "199997  2210.82      1300     6      6  ...         0    1     0         4\n",
              "199998  2422.92       100    22      9  ...         0    0     1         2\n",
              "199999  1766.54       100    19      5  ...         0    0     1         2\n",
              "\n",
              "[5 rows x 22 columns]"
            ]
          },
          "metadata": {},
          "execution_count": 45
        }
      ]
    },
    {
      "cell_type": "code",
      "metadata": {
        "colab": {
          "base_uri": "https://localhost:8080/",
          "height": 206
        },
        "id": "1hAJYsBpms6m",
        "outputId": "e79ea96b-61a3-41c7-dc06-05123c07ddce"
      },
      "source": [
        "#Split data into train and test\n",
        "train_dataset2 = dataset2.sample(frac = 0.8, random_state = 0)\n",
        "test_dataset2 = dataset2.drop(train_dataset2.index)\n",
        "\n",
        "#split the data into features and labels.\n",
        "train_features2 = train_dataset2.copy()\n",
        "test_features2  = train_dataset2.copy()\n",
        "\n",
        "train_labels2 = train_features2.pop(\"New time\")\n",
        "test_labels2 = test_features2.pop(\"New time\")\n",
        "test_features2.tail()\n"
      ],
      "execution_count": null,
      "outputs": [
        {
          "output_type": "execute_result",
          "data": {
            "text/html": [
              "<div>\n",
              "<style scoped>\n",
              "    .dataframe tbody tr th:only-of-type {\n",
              "        vertical-align: middle;\n",
              "    }\n",
              "\n",
              "    .dataframe tbody tr th {\n",
              "        vertical-align: top;\n",
              "    }\n",
              "\n",
              "    .dataframe thead th {\n",
              "        text-align: right;\n",
              "    }\n",
              "</style>\n",
              "<table border=\"1\" class=\"dataframe\">\n",
              "  <thead>\n",
              "    <tr style=\"text-align: right;\">\n",
              "      <th></th>\n",
              "      <th>Price</th>\n",
              "      <th>Distance</th>\n",
              "      <th>Date</th>\n",
              "      <th>Month</th>\n",
              "      <th>Mon</th>\n",
              "      <th>Tue</th>\n",
              "      <th>Wed</th>\n",
              "      <th>Thu</th>\n",
              "      <th>Fri</th>\n",
              "      <th>Sat</th>\n",
              "      <th>Sun</th>\n",
              "      <th>Airport1</th>\n",
              "      <th>Airport2</th>\n",
              "      <th>Airport3</th>\n",
              "      <th>Airport4</th>\n",
              "      <th>Airport5</th>\n",
              "      <th>Airport6</th>\n",
              "      <th>Airport7</th>\n",
              "      <th>Airport8</th>\n",
              "      <th>Bus</th>\n",
              "      <th>Walk</th>\n",
              "    </tr>\n",
              "  </thead>\n",
              "  <tbody>\n",
              "    <tr>\n",
              "      <th>164955</th>\n",
              "      <td>696.25</td>\n",
              "      <td>1300</td>\n",
              "      <td>8</td>\n",
              "      <td>7</td>\n",
              "      <td>0</td>\n",
              "      <td>0</td>\n",
              "      <td>0</td>\n",
              "      <td>1</td>\n",
              "      <td>0</td>\n",
              "      <td>0</td>\n",
              "      <td>0</td>\n",
              "      <td>0</td>\n",
              "      <td>0</td>\n",
              "      <td>0</td>\n",
              "      <td>0</td>\n",
              "      <td>0</td>\n",
              "      <td>0</td>\n",
              "      <td>1</td>\n",
              "      <td>0</td>\n",
              "      <td>0</td>\n",
              "      <td>1</td>\n",
              "    </tr>\n",
              "    <tr>\n",
              "      <th>15299</th>\n",
              "      <td>2021.47</td>\n",
              "      <td>1000</td>\n",
              "      <td>30</td>\n",
              "      <td>9</td>\n",
              "      <td>0</td>\n",
              "      <td>0</td>\n",
              "      <td>1</td>\n",
              "      <td>0</td>\n",
              "      <td>0</td>\n",
              "      <td>0</td>\n",
              "      <td>0</td>\n",
              "      <td>0</td>\n",
              "      <td>0</td>\n",
              "      <td>0</td>\n",
              "      <td>1</td>\n",
              "      <td>0</td>\n",
              "      <td>0</td>\n",
              "      <td>0</td>\n",
              "      <td>0</td>\n",
              "      <td>0</td>\n",
              "      <td>1</td>\n",
              "    </tr>\n",
              "    <tr>\n",
              "      <th>55301</th>\n",
              "      <td>2352.83</td>\n",
              "      <td>1000</td>\n",
              "      <td>3</td>\n",
              "      <td>9</td>\n",
              "      <td>0</td>\n",
              "      <td>1</td>\n",
              "      <td>0</td>\n",
              "      <td>0</td>\n",
              "      <td>0</td>\n",
              "      <td>0</td>\n",
              "      <td>0</td>\n",
              "      <td>0</td>\n",
              "      <td>0</td>\n",
              "      <td>0</td>\n",
              "      <td>1</td>\n",
              "      <td>0</td>\n",
              "      <td>0</td>\n",
              "      <td>0</td>\n",
              "      <td>0</td>\n",
              "      <td>0</td>\n",
              "      <td>1</td>\n",
              "    </tr>\n",
              "    <tr>\n",
              "      <th>125050</th>\n",
              "      <td>396.91</td>\n",
              "      <td>800</td>\n",
              "      <td>15</td>\n",
              "      <td>3</td>\n",
              "      <td>0</td>\n",
              "      <td>0</td>\n",
              "      <td>0</td>\n",
              "      <td>0</td>\n",
              "      <td>1</td>\n",
              "      <td>0</td>\n",
              "      <td>0</td>\n",
              "      <td>0</td>\n",
              "      <td>0</td>\n",
              "      <td>0</td>\n",
              "      <td>0</td>\n",
              "      <td>1</td>\n",
              "      <td>0</td>\n",
              "      <td>0</td>\n",
              "      <td>0</td>\n",
              "      <td>1</td>\n",
              "      <td>0</td>\n",
              "    </tr>\n",
              "    <tr>\n",
              "      <th>34309</th>\n",
              "      <td>2441.52</td>\n",
              "      <td>500</td>\n",
              "      <td>11</td>\n",
              "      <td>11</td>\n",
              "      <td>0</td>\n",
              "      <td>0</td>\n",
              "      <td>1</td>\n",
              "      <td>0</td>\n",
              "      <td>0</td>\n",
              "      <td>0</td>\n",
              "      <td>0</td>\n",
              "      <td>0</td>\n",
              "      <td>0</td>\n",
              "      <td>0</td>\n",
              "      <td>0</td>\n",
              "      <td>0</td>\n",
              "      <td>1</td>\n",
              "      <td>0</td>\n",
              "      <td>0</td>\n",
              "      <td>0</td>\n",
              "      <td>1</td>\n",
              "    </tr>\n",
              "  </tbody>\n",
              "</table>\n",
              "</div>"
            ],
            "text/plain": [
              "          Price  Distance  Date  Month  ...  Airport7  Airport8  Bus  Walk\n",
              "164955   696.25      1300     8      7  ...         1         0    0     1\n",
              "15299   2021.47      1000    30      9  ...         0         0    0     1\n",
              "55301   2352.83      1000     3      9  ...         0         0    0     1\n",
              "125050   396.91       800    15      3  ...         0         0    1     0\n",
              "34309   2441.52       500    11     11  ...         0         0    0     1\n",
              "\n",
              "[5 rows x 21 columns]"
            ]
          },
          "metadata": {},
          "execution_count": 46
        }
      ]
    },
    {
      "cell_type": "code",
      "metadata": {
        "colab": {
          "base_uri": "https://localhost:8080/"
        },
        "id": "NBcNhg1umm1b",
        "outputId": "1dbffc05-8380-4cae-8a45-016c9cc4b2ef"
      },
      "source": [
        "#Normalization layer\n",
        "normalizer = preprocessing.Normalization()\n",
        "\n",
        "#adapt to data\n",
        "normalizer.adapt(np.array(train_features2))\n",
        "\n",
        "\n",
        "loss = keras.losses.MeanAbsoluteError()\n",
        "optim = keras.optimizers.Adam(lr=0.1)\n",
        "\n",
        "\n",
        "\n",
        "\n",
        "#DNN\n",
        "dnn_model2 = keras.Sequential([\n",
        "            normalizer,\n",
        "            layers.Dense(164,activation= \"relu\"),\n",
        "            layers.Dense(65,activation = \"relu\"),\n",
        "            layers.Dense(64,activation =\"relu\"),\n",
        "            layers.Dense(64,activation =\"relu\"),\n",
        "\n",
        "            layers.Dense(1)])\n",
        "\n",
        "\n",
        "\n",
        "dnn_model2.compile(loss = loss,optimizer = tf.keras.optimizers.Adam(0.001))\n",
        "dnn_model2.summary()\n",
        "\n"
      ],
      "execution_count": null,
      "outputs": [
        {
          "output_type": "stream",
          "name": "stdout",
          "text": [
            "Model: \"sequential_4\"\n",
            "_________________________________________________________________\n",
            " Layer (type)                Output Shape              Param #   \n",
            "=================================================================\n",
            " normalization_5 (Normalizat  (None, 21)               43        \n",
            " ion)                                                            \n",
            "                                                                 \n",
            " dense_20 (Dense)            (None, 164)               3608      \n",
            "                                                                 \n",
            " dense_21 (Dense)            (None, 65)                10725     \n",
            "                                                                 \n",
            " dense_22 (Dense)            (None, 64)                4224      \n",
            "                                                                 \n",
            " dense_23 (Dense)            (None, 64)                4160      \n",
            "                                                                 \n",
            " dense_24 (Dense)            (None, 1)                 65        \n",
            "                                                                 \n",
            "=================================================================\n",
            "Total params: 22,825\n",
            "Trainable params: 22,782\n",
            "Non-trainable params: 43\n",
            "_________________________________________________________________\n"
          ]
        },
        {
          "output_type": "stream",
          "name": "stderr",
          "text": [
            "/usr/local/lib/python3.7/dist-packages/keras/optimizer_v2/adam.py:105: UserWarning: The `lr` argument is deprecated, use `learning_rate` instead.\n",
            "  super(Adam, self).__init__(name, **kwargs)\n"
          ]
        }
      ]
    },
    {
      "cell_type": "code",
      "metadata": {
        "colab": {
          "base_uri": "https://localhost:8080/"
        },
        "id": "wcmiumE4mwdO",
        "outputId": "9c7139a4-e859-4336-f939-3f97903f7a1e"
      },
      "source": [
        "dnn_model2.fit(\n",
        "    train_features2, train_labels2,\n",
        "    validation_split=0.2,\n",
        "    verbose=1, epochs=10)"
      ],
      "execution_count": null,
      "outputs": [
        {
          "output_type": "stream",
          "name": "stdout",
          "text": [
            "Epoch 1/10\n",
            "4000/4000 [==============================] - 9s 2ms/step - loss: 1.1268 - val_loss: 1.1064\n",
            "Epoch 2/10\n",
            "4000/4000 [==============================] - 9s 2ms/step - loss: 0.9371 - val_loss: 0.9123\n",
            "Epoch 3/10\n",
            "4000/4000 [==============================] - 9s 2ms/step - loss: 0.9261 - val_loss: 0.9074\n",
            "Epoch 4/10\n",
            "4000/4000 [==============================] - 9s 2ms/step - loss: 0.9221 - val_loss: 0.9271\n",
            "Epoch 5/10\n",
            "4000/4000 [==============================] - 9s 2ms/step - loss: 0.9141 - val_loss: 0.9585\n",
            "Epoch 6/10\n",
            "4000/4000 [==============================] - 9s 2ms/step - loss: 0.9099 - val_loss: 0.9053\n",
            "Epoch 7/10\n",
            "4000/4000 [==============================] - 9s 2ms/step - loss: 0.9092 - val_loss: 0.8948\n",
            "Epoch 8/10\n",
            "4000/4000 [==============================] - 9s 2ms/step - loss: 0.9031 - val_loss: 0.9529\n",
            "Epoch 9/10\n",
            "4000/4000 [==============================] - 9s 2ms/step - loss: 0.9005 - val_loss: 0.9095\n",
            "Epoch 10/10\n",
            "4000/4000 [==============================] - 9s 2ms/step - loss: 0.8991 - val_loss: 0.9006\n"
          ]
        },
        {
          "output_type": "execute_result",
          "data": {
            "text/plain": [
              "<keras.callbacks.History at 0x7fb3ebe7b450>"
            ]
          },
          "metadata": {},
          "execution_count": 50
        }
      ]
    },
    {
      "cell_type": "code",
      "metadata": {
        "colab": {
          "base_uri": "https://localhost:8080/"
        },
        "id": "sulTZcK0m7pz",
        "outputId": "362c6a44-c86f-400a-b1d4-f5ecfb0dbd00"
      },
      "source": [
        "test_features2 = test_features2[:40000]\n",
        "print(test_features2.tail())\n",
        "dnn_model2.evaluate(test_features2,test_dataset2,verbose = 1)"
      ],
      "execution_count": null,
      "outputs": [
        {
          "output_type": "stream",
          "name": "stdout",
          "text": [
            "          Price  Distance  Date  Month  ...  Airport7  Airport8  Bus  Walk\n",
            "170313   431.98      2500    23      2  ...         0         1    0     1\n",
            "131592   244.53      2500    28      9  ...         0         1    1     0\n",
            "8394    1377.52      2500    14     11  ...         0         1    0     1\n",
            "147183    69.02      2500    30      9  ...         0         1    1     0\n",
            "15138    147.33      2500    21      2  ...         0         0    1     0\n",
            "\n",
            "[5 rows x 21 columns]\n",
            "1250/1250 [==============================] - 2s 2ms/step - loss: 137.3133\n"
          ]
        },
        {
          "output_type": "execute_result",
          "data": {
            "text/plain": [
              "137.3133087158203"
            ]
          },
          "metadata": {},
          "execution_count": 51
        }
      ]
    },
    {
      "cell_type": "code",
      "metadata": {
        "id": "HJ1kdVtCtZGF"
      },
      "source": [
        "dnn_model_first.save(\"SecondHalf DNN nonv2 hd5\")\n",
        "dnn_model_first.save(\"SecondHalf DNN hd5v2.h5\")"
      ],
      "execution_count": null,
      "outputs": []
    }
  ]
}